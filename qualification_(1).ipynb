{
  "cells": [
    {
      "cell_type": "markdown",
      "metadata": {
        "id": "view-in-github",
        "colab_type": "text"
      },
      "source": [
        "<a href=\"https://colab.research.google.com/github/hosafxd/LavaAlgorithm/blob/main/qualification_(1).ipynb\" target=\"_parent\"><img src=\"https://colab.research.google.com/assets/colab-badge.svg\" alt=\"Open In Colab\"/></a>"
      ]
    },
    {
      "cell_type": "markdown",
      "id": "e649e588-6d3d-42d9-8fea-30d4eb978575",
      "metadata": {
        "id": "e649e588-6d3d-42d9-8fea-30d4eb978575"
      },
      "source": [
        "# RandomLogistic\n",
        "In this assigment you will implement RandomLogistic Regression.\n",
        "- First you will read the image using the given instructions.\n",
        "- Then you will flatten and normalize the image.\n",
        "- After you implement model compute function will be used to get the result.\n",
        "\n",
        "## **IMPORTANT WARNINGS**\n",
        "- **DO NOT USE** any additional libraries other than the standard Python libraries and the ones in the requirements.txt\n",
        "- **DO NOT DELETE** any cells even if it they are empty\n",
        "- While implementing the functions you should only change the cells with the statement #YOUR CODE HERE \\\n",
        "- If you change other than those blocks your notebook might not be graded properly"
      ]
    },
    {
      "cell_type": "code",
      "execution_count": null,
      "id": "63379bba-4867-4252-88b3-c4afdad38609",
      "metadata": {
        "deletable": false,
        "editable": false,
        "nbgrader": {
          "cell_type": "code",
          "checksum": "341c9bfe0aa8e8ca331ad7879ef6b931",
          "grade": false,
          "grade_id": "cell-2df2f9e0d8925d60",
          "locked": true,
          "schema_version": 3,
          "solution": false,
          "task": false
        },
        "id": "63379bba-4867-4252-88b3-c4afdad38609",
        "outputId": "25d64c9b-f501-4776-8663-04449f6f29d9"
      },
      "outputs": [
        {
          "ename": "",
          "evalue": "",
          "output_type": "error",
          "traceback": [
            "\u001b[1;31mRunning cells with 'Python 3.11.9' requires the ipykernel package.\n",
            "\u001b[1;31mRun the following command to install 'ipykernel' into the Python environment. \n",
            "\u001b[1;31mCommand: 'c:/Users/FurkanÖztürk/AppData/Local/Microsoft/WindowsApps/python3.11.exe -m pip install ipykernel -U --user --force-reinstall'"
          ]
        }
      ],
      "source": [
        "import numpy as np\n",
        "from PIL import Image\n",
        "import IPython\n",
        "assert IPython.version_info[0] >= 3, \"Your version of IPython is too old, please update it.\""
      ]
    },
    {
      "cell_type": "markdown",
      "id": "5fb23a48-7849-44c7-aeed-37e99866482e",
      "metadata": {
        "deletable": false,
        "editable": false,
        "nbgrader": {
          "cell_type": "markdown",
          "checksum": "2b6ae72f864bd87f7bae0959b6e3719e",
          "grade": false,
          "grade_id": "cell-5e924ef9068eeb53",
          "locked": true,
          "schema_version": 3,
          "solution": false,
          "task": false
        },
        "id": "5fb23a48-7849-44c7-aeed-37e99866482e"
      },
      "source": [
        "## Image reading\n",
        "Read the image using PIL library and convert the image to a numpy array using 'np.asarray' function"
      ]
    },
    {
      "cell_type": "code",
      "execution_count": null,
      "id": "e3ed7a02-5dc6-45ab-8287-baa998912c12",
      "metadata": {
        "deletable": false,
        "nbgrader": {
          "cell_type": "code",
          "checksum": "87b1f512dcab0e6c37610f2092380277",
          "grade": false,
          "grade_id": "cell-a6681d0d24df745a",
          "locked": false,
          "schema_version": 3,
          "solution": true,
          "task": false
        },
        "id": "e3ed7a02-5dc6-45ab-8287-baa998912c12",
        "outputId": "5d46d0c0-b0cc-41d1-b1a5-9e5c984aadca"
      },
      "outputs": [
        {
          "ename": "",
          "evalue": "",
          "output_type": "error",
          "traceback": [
            "\u001b[1;31mRunning cells with 'Python 3.11.9' requires the ipykernel package.\n",
            "\u001b[1;31mRun the following command to install 'ipykernel' into the Python environment. \n",
            "\u001b[1;31mCommand: 'c:/Users/FurkanÖztürk/AppData/Local/Microsoft/WindowsApps/python3.11.exe -m pip install ipykernel -U --user --force-reinstall'"
          ]
        }
      ],
      "source": [
        "def read_image(img_path):\n",
        "    # YOUR CODE HERE\n",
        "    img = Image.open(img_path)\n",
        "    img = np.asanyarray(img)\n",
        "\n",
        "\n",
        "   # raise NotImplementedError()\n",
        "    return img"
      ]
    },
    {
      "cell_type": "code",
      "execution_count": null,
      "id": "55888a32-52c6-4f5b-b772-037c41246a44",
      "metadata": {
        "deletable": false,
        "editable": false,
        "nbgrader": {
          "cell_type": "code",
          "checksum": "ca7e2646a56407b431988c272808f459",
          "grade": false,
          "grade_id": "cell-3ad73f5e48bdac5b",
          "locked": true,
          "schema_version": 3,
          "solution": false,
          "task": false
        },
        "id": "55888a32-52c6-4f5b-b772-037c41246a44",
        "outputId": "366d0453-e2de-4f7c-b850-496452eabc7d"
      },
      "outputs": [
        {
          "ename": "",
          "evalue": "",
          "output_type": "error",
          "traceback": [
            "\u001b[1;31mRunning cells with 'Python 3.11.9' requires the ipykernel package.\n",
            "\u001b[1;31mRun the following command to install 'ipykernel' into the Python environment. \n",
            "\u001b[1;31mCommand: 'c:/Users/FurkanÖztürk/AppData/Local/Microsoft/WindowsApps/python3.11.exe -m pip install ipykernel -U --user --force-reinstall'"
          ]
        }
      ],
      "source": [
        "img = read_image('inzva.jpeg')"
      ]
    },
    {
      "cell_type": "code",
      "execution_count": null,
      "id": "b709a190-6f86-4f74-ac62-783ee3e81e2d",
      "metadata": {
        "deletable": false,
        "editable": false,
        "nbgrader": {
          "cell_type": "code",
          "checksum": "cdd1cf1b0dbeac475f208d0ceb06d3f1",
          "grade": true,
          "grade_id": "cell-27634dfa545661ce",
          "locked": true,
          "points": 10,
          "schema_version": 3,
          "solution": false,
          "task": false
        },
        "id": "b709a190-6f86-4f74-ac62-783ee3e81e2d",
        "outputId": "149fb239-f8ce-4f20-f311-0e187a9e2652"
      },
      "outputs": [
        {
          "ename": "",
          "evalue": "",
          "output_type": "error",
          "traceback": [
            "\u001b[1;31mRunning cells with 'Python 3.11.9' requires the ipykernel package.\n",
            "\u001b[1;31mRun the following command to install 'ipykernel' into the Python environment. \n",
            "\u001b[1;31mCommand: 'c:/Users/FurkanÖztürk/AppData/Local/Microsoft/WindowsApps/python3.11.exe -m pip install ipykernel -U --user --force-reinstall'"
          ]
        }
      ],
      "source": [
        "assert type(img) == np.ndarray\n",
        "assert img.shape == (225, 225, 3)"
      ]
    },
    {
      "cell_type": "markdown",
      "id": "9485abb1-e097-4779-82c2-a57f047f5131",
      "metadata": {
        "id": "9485abb1-e097-4779-82c2-a57f047f5131"
      },
      "source": [
        "## Flatten the Image\n",
        "The given image has the shape (1000, 1000, 3). We want you to reshape the image into (3000000,)"
      ]
    },
    {
      "cell_type": "code",
      "execution_count": null,
      "id": "9689f780-980e-42b8-a66a-e41874500ec3",
      "metadata": {
        "deletable": false,
        "nbgrader": {
          "cell_type": "code",
          "checksum": "15f09a063a09149be883e68c40d2000a",
          "grade": false,
          "grade_id": "cell-52062b23598241d2",
          "locked": false,
          "schema_version": 3,
          "solution": true,
          "task": false
        },
        "id": "9689f780-980e-42b8-a66a-e41874500ec3",
        "outputId": "cac87ddd-5ffd-49bb-a824-6df0fe170eae"
      },
      "outputs": [
        {
          "ename": "",
          "evalue": "",
          "output_type": "error",
          "traceback": [
            "\u001b[1;31mRunning cells with 'Python 3.11.9' requires the ipykernel package.\n",
            "\u001b[1;31mRun the following command to install 'ipykernel' into the Python environment. \n",
            "\u001b[1;31mCommand: 'c:/Users/FurkanÖztürk/AppData/Local/Microsoft/WindowsApps/python3.11.exe -m pip install ipykernel -U --user --force-reinstall'"
          ]
        }
      ],
      "source": [
        "def flatten_img(img):\n",
        "    # YOUR CODE HERE\n",
        "    img_flatten = img.reshape(-1)\n",
        "\n",
        "\n",
        "    #raise NotImplementedError()\n",
        "    return img_flatten"
      ]
    },
    {
      "cell_type": "code",
      "execution_count": null,
      "id": "3a5fb667-4d84-4717-afed-df81b6b53fa4",
      "metadata": {
        "deletable": false,
        "editable": false,
        "nbgrader": {
          "cell_type": "code",
          "checksum": "8cdbc2b30a44dfcaa428c86249d86298",
          "grade": false,
          "grade_id": "cell-ce4f374643e4b3a2",
          "locked": true,
          "schema_version": 3,
          "solution": false,
          "task": false
        },
        "id": "3a5fb667-4d84-4717-afed-df81b6b53fa4",
        "outputId": "84bef06a-bfbb-4e48-8026-324b864f9901"
      },
      "outputs": [
        {
          "ename": "",
          "evalue": "",
          "output_type": "error",
          "traceback": [
            "\u001b[1;31mRunning cells with 'Python 3.11.9' requires the ipykernel package.\n",
            "\u001b[1;31mRun the following command to install 'ipykernel' into the Python environment. \n",
            "\u001b[1;31mCommand: 'c:/Users/FurkanÖztürk/AppData/Local/Microsoft/WindowsApps/python3.11.exe -m pip install ipykernel -U --user --force-reinstall'"
          ]
        }
      ],
      "source": [
        "img_flatten = flatten_img(img)"
      ]
    },
    {
      "cell_type": "code",
      "execution_count": null,
      "id": "72d7bad5-af02-4994-92ff-0bee2ee82047",
      "metadata": {
        "deletable": false,
        "editable": false,
        "nbgrader": {
          "cell_type": "code",
          "checksum": "76bc1a1cb6530b00c1e2d1e212dc0192",
          "grade": true,
          "grade_id": "cell-7b2b4622d95c08a9",
          "locked": true,
          "points": 10,
          "schema_version": 3,
          "solution": false,
          "task": false
        },
        "id": "72d7bad5-af02-4994-92ff-0bee2ee82047",
        "outputId": "adfded8c-bf8c-4aec-c8de-8056c90216b1"
      },
      "outputs": [
        {
          "ename": "",
          "evalue": "",
          "output_type": "error",
          "traceback": [
            "\u001b[1;31mRunning cells with 'Python 3.11.9' requires the ipykernel package.\n",
            "\u001b[1;31mRun the following command to install 'ipykernel' into the Python environment. \n",
            "\u001b[1;31mCommand: 'c:/Users/FurkanÖztürk/AppData/Local/Microsoft/WindowsApps/python3.11.exe -m pip install ipykernel -U --user --force-reinstall'"
          ]
        }
      ],
      "source": [
        "assert img_flatten.shape == (151875,) or img_flatten.shape == (151875,1)"
      ]
    },
    {
      "cell_type": "markdown",
      "id": "6d6cd1a3-9b07-4e3b-8c3c-54a54108263d",
      "metadata": {
        "id": "6d6cd1a3-9b07-4e3b-8c3c-54a54108263d"
      },
      "source": [
        "## Normalize the Image\n",
        "You should implement the following formula to normalize the image:\n",
        "$$ x = \\frac{x - min(x)}{max(x)-min(x)} $$"
      ]
    },
    {
      "cell_type": "code",
      "execution_count": null,
      "id": "737f4822-06cd-4cc4-bf20-c675657748f8",
      "metadata": {
        "deletable": false,
        "nbgrader": {
          "cell_type": "code",
          "checksum": "ba82363a5bbecaa55832883218f473f1",
          "grade": false,
          "grade_id": "cell-9b4666d8308a183b",
          "locked": false,
          "schema_version": 3,
          "solution": true,
          "task": false
        },
        "id": "737f4822-06cd-4cc4-bf20-c675657748f8",
        "outputId": "978034a9-1154-4e90-88b1-a4ac7f6b6587"
      },
      "outputs": [
        {
          "ename": "",
          "evalue": "",
          "output_type": "error",
          "traceback": [
            "\u001b[1;31mRunning cells with 'Python 3.11.9' requires the ipykernel package.\n",
            "\u001b[1;31mRun the following command to install 'ipykernel' into the Python environment. \n",
            "\u001b[1;31mCommand: 'c:/Users/FurkanÖztürk/AppData/Local/Microsoft/WindowsApps/python3.11.exe -m pip install ipykernel -U --user --force-reinstall'"
          ]
        }
      ],
      "source": [
        "def normalize_img(img):\n",
        "    # YOUR CODE HERE\n",
        "    normalized_img = (img - np.min(img)) / (np.max(img) - np.min(img))\n",
        "\n",
        "\n",
        "    # raise NotImplementedError()\n",
        "    return normalized_img"
      ]
    },
    {
      "cell_type": "code",
      "execution_count": null,
      "id": "a01367c6-5d00-4b0e-8d74-5314c3a1526c",
      "metadata": {
        "deletable": false,
        "editable": false,
        "nbgrader": {
          "cell_type": "code",
          "checksum": "303493ec3419991036e4701a17b75989",
          "grade": false,
          "grade_id": "cell-366aac6296a867cb",
          "locked": true,
          "schema_version": 3,
          "solution": false,
          "task": false
        },
        "id": "a01367c6-5d00-4b0e-8d74-5314c3a1526c",
        "outputId": "1f5b34c4-f6c4-4a2d-c823-f6619f881eab"
      },
      "outputs": [
        {
          "ename": "",
          "evalue": "",
          "output_type": "error",
          "traceback": [
            "\u001b[1;31mRunning cells with 'Python 3.11.9' requires the ipykernel package.\n",
            "\u001b[1;31mRun the following command to install 'ipykernel' into the Python environment. \n",
            "\u001b[1;31mCommand: 'c:/Users/FurkanÖztürk/AppData/Local/Microsoft/WindowsApps/python3.11.exe -m pip install ipykernel -U --user --force-reinstall'"
          ]
        }
      ],
      "source": [
        "img_normalized = normalize_img(img_flatten)"
      ]
    },
    {
      "cell_type": "code",
      "execution_count": null,
      "id": "15da13b4-b84d-497f-9441-bdc58dafab26",
      "metadata": {
        "deletable": false,
        "editable": false,
        "nbgrader": {
          "cell_type": "code",
          "checksum": "6835e1048292ecaa6a73483a906b5cb2",
          "grade": true,
          "grade_id": "cell-61a350c6477164bb",
          "locked": true,
          "points": 10,
          "schema_version": 3,
          "solution": false,
          "task": false
        },
        "id": "15da13b4-b84d-497f-9441-bdc58dafab26",
        "outputId": "9aef37d6-4f45-4490-a386-f2a3b1f72dab"
      },
      "outputs": [
        {
          "ename": "",
          "evalue": "",
          "output_type": "error",
          "traceback": [
            "\u001b[1;31mRunning cells with 'Python 3.11.9' requires the ipykernel package.\n",
            "\u001b[1;31mRun the following command to install 'ipykernel' into the Python environment. \n",
            "\u001b[1;31mCommand: 'c:/Users/FurkanÖztürk/AppData/Local/Microsoft/WindowsApps/python3.11.exe -m pip install ipykernel -U --user --force-reinstall'"
          ]
        }
      ],
      "source": [
        "assert np.max(img_normalized) == 1.0 and np.min(img_normalized) == 0.0"
      ]
    },
    {
      "cell_type": "markdown",
      "id": "6e94cc61-88b0-4989-b877-4f98984369d5",
      "metadata": {
        "id": "6e94cc61-88b0-4989-b877-4f98984369d5"
      },
      "source": [
        "## Random Logistic\n",
        "Set weights using 'np.random.randn' and set bias to zero. Be careful with the dimensions. Then implement the sigmoid function ($\\sigma $) using the following formula:\n",
        "$$\\sigma(x) = \\frac{1}{ 1 + \\exp(-x)} $$\n",
        "Then implement the forward pass by:\n",
        "$$y = \\sigma((W * x) + b)$$"
      ]
    },
    {
      "cell_type": "code",
      "execution_count": null,
      "id": "e9c77abc-f919-4cd0-a8b6-559121f2ba20",
      "metadata": {
        "deletable": false,
        "nbgrader": {
          "cell_type": "code",
          "checksum": "e1bc3d7b4fa492025adddf3b70867de1",
          "grade": false,
          "grade_id": "cell-7ef2b26abd49de09",
          "locked": false,
          "schema_version": 3,
          "solution": true,
          "task": false
        },
        "id": "e9c77abc-f919-4cd0-a8b6-559121f2ba20",
        "outputId": "19b5a9f2-e14b-4b67-93e3-73d7bc06f53a"
      },
      "outputs": [
        {
          "ename": "",
          "evalue": "",
          "output_type": "error",
          "traceback": [
            "\u001b[1;31mRunning cells with 'Python 3.11.9' requires the ipykernel package.\n",
            "\u001b[1;31mRun the following command to install 'ipykernel' into the Python environment. \n",
            "\u001b[1;31mCommand: 'c:/Users/FurkanÖztürk/AppData/Local/Microsoft/WindowsApps/python3.11.exe -m pip install ipykernel -U --user --force-reinstall'"
          ]
        }
      ],
      "source": [
        "class RandomLogistic:\n",
        "    def __init__(self, input_shape):\n",
        "        np.random.seed(2024)\n",
        "        ## Define your weights and bias below.\n",
        "        # YOUR CODE HERE\n",
        "        self.weights = np.random.randn(*input_shape) # Unpack the tuple\n",
        "        self.bias = 0.0\n",
        "\n",
        "\n",
        "       # raise NotImplementedError()\n",
        "\n",
        "    def sigmoid(self, x):\n",
        "        # YOUR CODE HERE\n",
        "        return 1 / (1 + np.exp(-x))\n",
        "\n",
        "\n",
        "      #  raise NotImplementedError()\n",
        "\n",
        "    def compute(self, x):\n",
        "        # YOUR CODE HERE\n",
        "        linear_combination = np.dot(self.weights, x) + self.bias\n",
        "        y = self.sigmoid(linear_combination)\n",
        "\n",
        "\n",
        "      #  raise NotImplementedError()\n",
        "        return y"
      ]
    },
    {
      "cell_type": "code",
      "execution_count": null,
      "id": "88b7e4d6-e6a2-4537-bc7b-685325c44744",
      "metadata": {
        "deletable": false,
        "editable": false,
        "nbgrader": {
          "cell_type": "code",
          "checksum": "3e36a057206aed5b448859011daf4c25",
          "grade": false,
          "grade_id": "cell-9fbb35355270f107",
          "locked": true,
          "schema_version": 3,
          "solution": false,
          "task": false
        },
        "id": "88b7e4d6-e6a2-4537-bc7b-685325c44744",
        "outputId": "337ad5ca-2831-4d70-b28e-943fc0d94284"
      },
      "outputs": [
        {
          "ename": "",
          "evalue": "",
          "output_type": "error",
          "traceback": [
            "\u001b[1;31mRunning cells with 'Python 3.11.9' requires the ipykernel package.\n",
            "\u001b[1;31mRun the following command to install 'ipykernel' into the Python environment. \n",
            "\u001b[1;31mCommand: 'c:/Users/FurkanÖztürk/AppData/Local/Microsoft/WindowsApps/python3.11.exe -m pip install ipykernel -U --user --force-reinstall'"
          ]
        }
      ],
      "source": [
        "random = RandomLogistic(input_shape=img_flatten.shape)\n",
        "y = random.compute(img_normalized)\n",
        "z = np.load('result.npy')"
      ]
    },
    {
      "cell_type": "code",
      "execution_count": null,
      "id": "0366bdeb-910a-4fad-831c-d5b9c0a7cecb",
      "metadata": {
        "deletable": false,
        "editable": false,
        "nbgrader": {
          "cell_type": "code",
          "checksum": "6a9b78f50ae1d838348662aea4864ee9",
          "grade": true,
          "grade_id": "cell-3a57a78b3ebce3d2",
          "locked": true,
          "points": 20,
          "schema_version": 3,
          "solution": false,
          "task": false
        },
        "id": "0366bdeb-910a-4fad-831c-d5b9c0a7cecb",
        "outputId": "b986e30d-e5fb-4a77-bb7a-292890415887"
      },
      "outputs": [
        {
          "ename": "",
          "evalue": "",
          "output_type": "error",
          "traceback": [
            "\u001b[1;31mRunning cells with 'Python 3.11.9' requires the ipykernel package.\n",
            "\u001b[1;31mRun the following command to install 'ipykernel' into the Python environment. \n",
            "\u001b[1;31mCommand: 'c:/Users/FurkanÖztürk/AppData/Local/Microsoft/WindowsApps/python3.11.exe -m pip install ipykernel -U --user --force-reinstall'"
          ]
        }
      ],
      "source": [
        "assert np.sum(np.abs(y-z)) < 1e-9"
      ]
    },
    {
      "cell_type": "markdown",
      "id": "86042050-2f4b-4eb7-887a-ba011d170f40",
      "metadata": {
        "id": "86042050-2f4b-4eb7-887a-ba011d170f40"
      },
      "source": [
        "# Edit Distance\n",
        "\n",
        "- Complete the function below to find the edit distance between two strings.\n",
        "- Edit distance between two words is defined as the minimum number of operations needed to transform one word into another, in which the only operations allowed are inserting, deleting or replacing a character.\n",
        "(insertion: inzva → inz**i**va, deletion: inz**v**a → inza, replacement: inzva → in**o**va)\n",
        "\n",
        "**For this question, use Python’s standard libraries only.**\\\n",
        "Make sure that your algorithm works correctly as there are also hidden test cases that are not shown here."
      ]
    },
    {
      "cell_type": "code",
      "execution_count": null,
      "id": "93443643-0ff1-42c0-8607-97d77541ac29",
      "metadata": {
        "deletable": false,
        "nbgrader": {
          "cell_type": "code",
          "checksum": "3749be11f3ec1f646ddd465be9569b54",
          "grade": false,
          "grade_id": "cell-3f5cca84206b51d5",
          "locked": false,
          "schema_version": 3,
          "solution": true,
          "task": false
        },
        "id": "93443643-0ff1-42c0-8607-97d77541ac29",
        "outputId": "5abaa41f-e015-4c9d-90fa-4e3b1bc859a0"
      },
      "outputs": [
        {
          "ename": "",
          "evalue": "",
          "output_type": "error",
          "traceback": [
            "\u001b[1;31mRunning cells with 'Python 3.11.9' requires the ipykernel package.\n",
            "\u001b[1;31mRun the following command to install 'ipykernel' into the Python environment. \n",
            "\u001b[1;31mCommand: 'c:/Users/FurkanÖztürk/AppData/Local/Microsoft/WindowsApps/python3.11.exe -m pip install ipykernel -U --user --force-reinstall'"
          ]
        }
      ],
      "source": [
        "def edit_distance(word1, word2):\n",
        "    # YOUR CODE HERE\n",
        "    memo = {}\n",
        "\n",
        "    def dp(i, j):\n",
        "\n",
        "        if (i, j) in memo:\n",
        "            return memo[(i, j)]\n",
        "\n",
        "\n",
        "        if i == 0:\n",
        "            return j\n",
        "\n",
        "        if j == 0:\n",
        "            return i\n",
        "\n",
        "        if word1[i - 1] == word2[j - 1]:\n",
        "            memo[(i, j)] = dp(i - 1, j - 1)\n",
        "        else:\n",
        "\n",
        "            memo[(i, j)] = min(\n",
        "                dp(i - 1, j) + 1,  # Deletion\n",
        "                dp(i, j - 1) + 1,  # Insertion\n",
        "                dp(i - 1, j - 1) + 1  # Replacement\n",
        "            )\n",
        "        return memo[(i, j)]\n",
        "\n",
        "    return dp(len(word1), len(word2))\n",
        "\n",
        "#    raise NotImplementedError()"
      ]
    },
    {
      "cell_type": "code",
      "execution_count": null,
      "id": "af9f77ee-bbeb-4edf-8624-3f6100cbb949",
      "metadata": {
        "deletable": false,
        "editable": false,
        "nbgrader": {
          "cell_type": "code",
          "checksum": "c72b79c413f9d06259035ba67f044bae",
          "grade": true,
          "grade_id": "cell-e68c3f781e28fcf7",
          "locked": true,
          "points": 6,
          "schema_version": 3,
          "solution": false,
          "task": false
        },
        "id": "af9f77ee-bbeb-4edf-8624-3f6100cbb949",
        "outputId": "2c5231bd-eb42-43b7-b1ce-01b06ee6d5d5"
      },
      "outputs": [
        {
          "ename": "",
          "evalue": "",
          "output_type": "error",
          "traceback": [
            "\u001b[1;31mRunning cells with 'Python 3.11.9' requires the ipykernel package.\n",
            "\u001b[1;31mRun the following command to install 'ipykernel' into the Python environment. \n",
            "\u001b[1;31mCommand: 'c:/Users/FurkanÖztürk/AppData/Local/Microsoft/WindowsApps/python3.11.exe -m pip install ipykernel -U --user --force-reinstall'"
          ]
        }
      ],
      "source": [
        "assert edit_distance(\"inzva\", \"inziva\") == 1\n",
        "assert edit_distance(\"inzva\", \"inova\") == 1\n",
        "assert edit_distance(\"inzva\", \"dlsg\") == 5"
      ]
    },
    {
      "cell_type": "code",
      "execution_count": null,
      "id": "26dbe4d6-1886-44ce-8bb6-8b3fb798e6d4",
      "metadata": {
        "deletable": false,
        "editable": false,
        "nbgrader": {
          "cell_type": "code",
          "checksum": "5bf0db04ea1892c62292817622694c18",
          "grade": true,
          "grade_id": "cell-68a823ce760d1540",
          "locked": true,
          "points": 15,
          "schema_version": 3,
          "solution": false,
          "task": false
        },
        "id": "26dbe4d6-1886-44ce-8bb6-8b3fb798e6d4",
        "outputId": "8a9aabb6-a110-4f7f-d25e-01ae25fbc0a8"
      },
      "outputs": [
        {
          "ename": "",
          "evalue": "",
          "output_type": "error",
          "traceback": [
            "\u001b[1;31mRunning cells with 'Python 3.11.9' requires the ipykernel package.\n",
            "\u001b[1;31mRun the following command to install 'ipykernel' into the Python environment. \n",
            "\u001b[1;31mCommand: 'c:/Users/FurkanÖztürk/AppData/Local/Microsoft/WindowsApps/python3.11.exe -m pip install ipykernel -U --user --force-reinstall'"
          ]
        }
      ],
      "source": [
        "### DO NOT DELETE THIS CELL"
      ]
    },
    {
      "cell_type": "code",
      "execution_count": null,
      "id": "e265d7ce-61b5-4545-856b-953ddd8aa4ba",
      "metadata": {
        "deletable": false,
        "editable": false,
        "nbgrader": {
          "cell_type": "code",
          "checksum": "bfd876d1653676142eb41e1994f707ec",
          "grade": true,
          "grade_id": "cell-f2b3f99ef05313d8",
          "locked": true,
          "points": 29,
          "schema_version": 3,
          "solution": false,
          "task": false
        },
        "id": "e265d7ce-61b5-4545-856b-953ddd8aa4ba",
        "outputId": "e484d3fa-4161-4eb1-86f5-9ddac8a43879"
      },
      "outputs": [
        {
          "ename": "",
          "evalue": "",
          "output_type": "error",
          "traceback": [
            "\u001b[1;31mRunning cells with 'Python 3.11.9' requires the ipykernel package.\n",
            "\u001b[1;31mRun the following command to install 'ipykernel' into the Python environment. \n",
            "\u001b[1;31mCommand: 'c:/Users/FurkanÖztürk/AppData/Local/Microsoft/WindowsApps/python3.11.exe -m pip install ipykernel -U --user --force-reinstall'"
          ]
        }
      ],
      "source": [
        "### DO NOT DELETE THIS CELL"
      ]
    }
  ],
  "metadata": {
    "kernelspec": {
      "display_name": "Python 3 (ipykernel)",
      "language": "python",
      "name": "python3"
    },
    "language_info": {
      "codemirror_mode": {
        "name": "ipython",
        "version": 3
      },
      "file_extension": ".py",
      "mimetype": "text/x-python",
      "name": "python",
      "nbconvert_exporter": "python",
      "pygments_lexer": "ipython3",
      "version": "3.11.9"
    },
    "colab": {
      "provenance": [],
      "include_colab_link": true
    }
  },
  "nbformat": 4,
  "nbformat_minor": 5
}